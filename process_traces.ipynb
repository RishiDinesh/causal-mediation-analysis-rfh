{
 "cells": [
  {
   "cell_type": "code",
   "execution_count": 1,
   "id": "99e8a1ef",
   "metadata": {},
   "outputs": [
    {
     "name": "stderr",
     "output_type": "stream",
     "text": [
      "/Users/rishidinesh/Projects/causal-mediation-analysis-rfh/.venv/lib/python3.12/site-packages/tqdm/auto.py:21: TqdmWarning: IProgress not found. Please update jupyter and ipywidgets. See https://ipywidgets.readthedocs.io/en/stable/user_install.html\n",
      "  from .autonotebook import tqdm as notebook_tqdm\n"
     ]
    }
   ],
   "source": [
    "from datasets import load_dataset\n",
    "dataset = load_dataset(\"HuggingFaceH4/MATH-500\", split=\"test\")\n",
    "\n",
    "MODEL_NAME_MAPPING = {\n",
    "    \"DeepSeek-R1-Distill-Llama-8B\": \"llama-8B\",\n",
    "    \"DeepSeek-R1-Distill-Qwen-7B\": \"qwen-7B\",\n",
    "    \"DeepSeek-R1-Distill-Qwen-1.5B\": \"qwen-1p5B\",\n",
    "}\n",
    "\n",
    "def find_dataset_sample(id: str) -> str:\n",
    "    for item in dataset:\n",
    "        if item[\"unique_id\"] == id:\n",
    "            return item"
   ]
  },
  {
   "cell_type": "code",
   "execution_count": 2,
   "id": "257f7b31",
   "metadata": {},
   "outputs": [],
   "source": [
    "import re\n",
    "\n",
    "def extract_boxed_answer(response):\n",
    "    # Find all \\boxed{...} matches\n",
    "    # This pattern will match nested braces within \\boxed{} properly\n",
    "    matches = re.findall(r'\\\\boxed{([^{}]*(?:\\{[^{}]*\\}[^{}]*)*)}', response)\n",
    "    # If matches found, return the last one, otherwise return None\n",
    "    if matches:\n",
    "        return matches[-1]\n",
    "    return None"
   ]
  },
  {
   "cell_type": "code",
   "execution_count": 3,
   "id": "b4411874",
   "metadata": {},
   "outputs": [],
   "source": [
    "from utils.MATH_500_eval.grader import grade_answer\n",
    "\n",
    "EOS = '<｜end▁of▁sentence｜>'\n",
    "THINK_OPEN = '<think>'\n",
    "THINK_CLOSE = '</think>'\n",
    "THINK_BLOCK_RE = r'<think>.*?</think>'\n",
    "THINK_BLOCK_GROUPED_RE = r'(<think>)(.*?)(</think>)'\n",
    "MASK = '\\nOkay, I think I have finished thinking.\\n'\n",
    "\n",
    "def process_traces(traces, filename):\n",
    "    res = []\n",
    "    parts = filename.split(\"_\")\n",
    "    model_name = MODEL_NAME_MAPPING[parts[1]]\n",
    "\n",
    "    for trace in traces:\n",
    "        sample = find_dataset_sample(trace[\"unique_id\"])\n",
    "        gold_answer = sample[\"answer\"]\n",
    "        response = trace[\"response\"].strip()\n",
    "\n",
    "        # 1) must end with EOS\n",
    "        if not response.endswith(EOS):\n",
    "            continue\n",
    "\n",
    "        # 2) must have exactly one <think> and exactly one </think>\n",
    "        if response.count(THINK_OPEN) != 1 or response.count(THINK_CLOSE) != 1:\n",
    "            continue\n",
    "\n",
    "        # 3) extract and validate final answer\n",
    "        extracted_answer = extract_boxed_answer(response)\n",
    "        is_correct = int(grade_answer(extracted_answer, gold_answer))\n",
    "        if is_correct == 0:\n",
    "            continue\n",
    "\n",
    "        # 4) find the single think block\n",
    "        m = re.search(THINK_BLOCK_RE, response, flags=re.DOTALL)\n",
    "        if not m:\n",
    "            continue\n",
    "\n",
    "        # 4) truncate everything after </think> and append the gold answer line\n",
    "        res_withR = response[:m.end()] + r\"The final answer is: \\boxed{\" + extracted_answer + \"}\"\n",
    "\n",
    "        # 5) mask the inner think content\n",
    "        res_withoutR = re.sub(\n",
    "            THINK_BLOCK_GROUPED_RE,\n",
    "            r'\\1' + MASK + r'\\3',\n",
    "            res_withR,\n",
    "            flags=re.DOTALL\n",
    "        )\n",
    "\n",
    "        res.append({\n",
    "            \"model_name\": model_name,\n",
    "            \"unique_id\": trace[\"unique_id\"],\n",
    "            \"problem\": sample[\"problem\"],\n",
    "            \"response_withR\": res_withR,\n",
    "            \"response_withoutR\": res_withoutR,\n",
    "            \"subject\": sample[\"subject\"],\n",
    "            \"level\": sample[\"level\"]\n",
    "        })\n",
    "    print(f\"Processed {len(res)} traces out of {len(traces)} for {model_name}\")\n",
    "    return res"
   ]
  },
  {
   "cell_type": "code",
   "execution_count": 4,
   "id": "77dd4c1f",
   "metadata": {},
   "outputs": [
    {
     "name": "stdout",
     "output_type": "stream",
     "text": [
      "Processed 350 traces out of 500 for llama-8B\n",
      "Processed 438 traces out of 500 for qwen-7B\n",
      "Processed 369 traces out of 500 for qwen-1p5B\n"
     ]
    }
   ],
   "source": [
    "import os\n",
    "import json\n",
    "\n",
    "results = []\n",
    "# loop through all jsonl files in the folder \"data/traces\"\n",
    "for filename in os.listdir(\"data/traces\"):\n",
    "    if filename.endswith(\".jsonl\"):\n",
    "        file_path = os.path.join(\"data/traces\", filename)\n",
    "        traces = []\n",
    "        with open(file_path, 'r') as f:\n",
    "            for line in f:\n",
    "                traces.append(json.loads(line))\n",
    "        results.extend(process_traces(traces, filename))"
   ]
  },
  {
   "cell_type": "code",
   "execution_count": 26,
   "id": "52d39dad",
   "metadata": {},
   "outputs": [],
   "source": [
    "import pandas as pd\n",
    "\n",
    "df = pd.DataFrame(results)\n",
    "# keep only those IDs that have results for all models\n",
    "filter = (\n",
    "    df.groupby('unique_id')['model_name']\n",
    "    .nunique()\n",
    "    .pipe(lambda s: s[s == 3].index)\n",
    ")\n",
    "df_final = df[df['unique_id'].isin(filter)].copy()\n",
    "# save to json\n",
    "df_final.to_json(\"data/traces.jsonl\", orient='records', lines=True)"
   ]
  }
 ],
 "metadata": {
  "kernelspec": {
   "display_name": ".venv (3.12.11)",
   "language": "python",
   "name": "python3"
  },
  "language_info": {
   "codemirror_mode": {
    "name": "ipython",
    "version": 3
   },
   "file_extension": ".py",
   "mimetype": "text/x-python",
   "name": "python",
   "nbconvert_exporter": "python",
   "pygments_lexer": "ipython3",
   "version": "3.12.11"
  }
 },
 "nbformat": 4,
 "nbformat_minor": 5
}
